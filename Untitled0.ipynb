{
  "nbformat": 4,
  "nbformat_minor": 0,
  "metadata": {
    "colab": {
      "name": "Untitled0.ipynb",
      "provenance": [],
      "collapsed_sections": [],
      "include_colab_link": true
    },
    "kernelspec": {
      "name": "python3",
      "display_name": "Python 3"
    }
  },
  "cells": [
    {
      "cell_type": "markdown",
      "metadata": {
        "id": "view-in-github",
        "colab_type": "text"
      },
      "source": [
        "<a href=\"https://colab.research.google.com/github/JiahuaZhang/machine-learning-trading/blob/main/Untitled0.ipynb\" target=\"_parent\"><img src=\"https://colab.research.google.com/assets/colab-badge.svg\" alt=\"Open In Colab\"/></a>"
      ]
    },
    {
      "cell_type": "code",
      "metadata": {
        "id": "34pLgIRcjwj_"
      },
      "source": [
        "import pandas as pd\n",
        "import numpy as np\n",
        "import matplotlib.pyplot as plt\n",
        "import matplotlib\n",
        "from datetime import datetime\n",
        "from dateutil import relativedelta\n",
        "\n",
        "%matplotlib inline"
      ],
      "execution_count": 13,
      "outputs": []
    },
    {
      "cell_type": "code",
      "metadata": {
        "id": "g4gFUlKvWLec"
      },
      "source": [
        "matplotlib.rcParams['figure.figsize'] = (15, 13)"
      ],
      "execution_count": 14,
      "outputs": []
    },
    {
      "cell_type": "code",
      "metadata": {
        "id": "ALz_fwnBr5z_"
      },
      "source": [
        "def get_time_preset(time_preset):\n",
        "  \"\"\"Get time range for preset\n",
        "  time_preset -- number + date range format\n",
        "  e.g. 1d for 1 day, 2mo for 2 months, 3yr for 3years\n",
        "  \"\"\"\n",
        "  now = datetime.today()\n",
        "\n",
        "  if 'd' in time_preset:\n",
        "    days = int(time_preset.replace('d', ''))\n",
        "    start = now + relativedelta.relativedelta(days=-days)\n",
        "    return start.timestamp(), now.timestamp()\n",
        "  elif 'mo' in time_preset:\n",
        "    months = int(time_preset.replace('mo', ''))\n",
        "    start = now + relativedelta.relativedelta(months=-months)\n",
        "  elif 'yr' in time_preset:\n",
        "    years = int(time_preset.replace('yr', ''))\n",
        "    start = now + relativedelta.relativedelta(years=-years)\n",
        "\n",
        "  return start.timestamp(), now.timestamp()"
      ],
      "execution_count": 25,
      "outputs": []
    },
    {
      "cell_type": "code",
      "metadata": {
        "id": "XQVB3ol-r85s"
      },
      "source": [
        "def build_yahoo_finance_url(symbol, time_preset='3mo', interval='daily', events='history', start=None, end=None, includeAdjustedClose=True):\n",
        "  \"\"\"build yahoo finance url\n",
        "  Keyword arguments:\n",
        "  symbol: stock symbol, e.g. AAPL, SPY\n",
        "  time_preset: time ranges by preset, e.g. 1d for 1 day, 2mo for 2 months, 3yr for 3 years.\n",
        "    it would ignore start, end if this is not None\n",
        "  interval: get stock frequency, e.g. daily, weekly, monthly\n",
        "  events: history | div, historic stock price or dividend\n",
        "  start, end: start or end date in milliseconds format\n",
        "  includeAdjustedClose: boolean\n",
        "  \"\"\"\n",
        "  api = 'https://query1.finance.yahoo.com/v7/finance/download'\n",
        "\n",
        "  if start and end:\n",
        "    if type(start) == float or type(start) == int:\n",
        "      period1, period2 = start, end\n",
        "    else:\n",
        "      period1 = datetime.strptime(start, '%Y-%m-%d').timestamp()\n",
        "      period2 = datetime.strptime(end, '%Y-%m-%d').timestamp()\n",
        "  else:\n",
        "    period1, period2 = get_time_preset(time_preset=time_preset)\n",
        "\n",
        "  interval = {'daily': '1d', 'weekly': '1wk', 'monthly': '1mo'}[interval]\n",
        "\n",
        "  return '{}/{}?period1={}&period2={}&interval={}&events={}&includeAdjustedClose={}'.format(api, symbol, int(period1), int(period2), interval, events, includeAdjustedClose)"
      ],
      "execution_count": 26,
      "outputs": []
    },
    {
      "cell_type": "code",
      "metadata": {
        "id": "uBPTQXpRIznr"
      },
      "source": [
        "def rolling_analysis(series, window=20, nstd=2, plot=True):\n",
        "  rolling = series.rolling(window=window)\n",
        "  mean = rolling.mean()\n",
        "  upper_bound = mean + nstd * rolling.std()\n",
        "  lower_bound = mean - nstd * rolling.std()\n",
        "  \n",
        "  mean.name = '{} rolling mean'.format(mean.name)\n",
        "  upper_bound.name = '{} upper bound'.format(mean.name)\n",
        "  lower_bound.name = '{} lower bound'.format(mean.name)\n",
        "\n",
        "  if plot:\n",
        "    pd.concat([series, mean, upper_bound, lower_bound], axis=1).plot()\n",
        "    plt.show()\n",
        "\n",
        "  return mean, lower_bound, upper_bound"
      ],
      "execution_count": 17,
      "outputs": []
    },
    {
      "cell_type": "code",
      "metadata": {
        "id": "bYK3AZ0ShUSJ"
      },
      "source": [
        "def rolling_trade(series, lower, upper):\n",
        "  buy = series[lower > series]\n",
        "  sell = series[series > upper]\n",
        "\n",
        "  trades = []\n",
        "  while True:\n",
        "    if buy.size == 0:\n",
        "      break\n",
        "\n",
        "    current_trade = {}\n",
        "    current_buy_time = buy.index[0]\n",
        "    current_buy_price = buy[current_buy_time]\n",
        "    current_trade['buy'] = {\n",
        "        'time': current_buy_time,\n",
        "        'price': current_buy_price\n",
        "    }\n",
        "\n",
        "    sell = sell[sell.index > current_buy_time]\n",
        "    sell = sell[sell > current_buy_price]\n",
        "    if sell.size == 0:\n",
        "      trades.append(current_trade)\n",
        "      break\n",
        "\n",
        "    current_sell_time = sell.index[0]\n",
        "    current_sell_price = sell[current_sell_time]\n",
        "    current_trade['sell'] = {\n",
        "        'time': current_sell_time,\n",
        "        'price': current_sell_price\n",
        "    }\n",
        "    current_trade['change'] = {\n",
        "        'time': current_sell_time - current_buy_time,\n",
        "        'price': current_sell_price - current_buy_price\n",
        "    }\n",
        "    trades.append(current_trade)\n",
        "\n",
        "    buy = buy[buy.index > current_sell_time]\n",
        "  return trades"
      ],
      "execution_count": 18,
      "outputs": []
    },
    {
      "cell_type": "code",
      "metadata": {
        "id": "DItk7i5vtG4H"
      },
      "source": [
        "# AAPL\n",
        "# symbol = 'SPY'\n",
        "# url = build_yahoo_finance_url(symbol=symbol)\n",
        "# stock = pd.read_csv(url, index_col='Date', parse_dates=True)"
      ],
      "execution_count": 19,
      "outputs": []
    },
    {
      "cell_type": "code",
      "metadata": {
        "id": "BEum3_XtXZyI"
      },
      "source": [
        "# adjust_close = stock['Adj Close']"
      ],
      "execution_count": 20,
      "outputs": []
    },
    {
      "cell_type": "code",
      "metadata": {
        "id": "0lsbHF7-Vfq3"
      },
      "source": [
        "# mean, lower, upper = rolling_analysis(adjust_close)"
      ],
      "execution_count": 21,
      "outputs": []
    },
    {
      "cell_type": "code",
      "metadata": {
        "id": "44W0mDw5nI3m"
      },
      "source": [
        "# rolling_trade(adjust_close, lower, upper)"
      ],
      "execution_count": 22,
      "outputs": []
    },
    {
      "cell_type": "code",
      "metadata": {
        "id": "z8CUN0Jdd3fx"
      },
      "source": [
        "# for window in [7, 14, 21, 28]:\n",
        "#   print('For {} window size:'.format(window))\n",
        "#   mean, lower, upper = rolling_analysis(adjust_close, window=window)\n",
        "#   for trade in rolling_trade(adjust_close, lower, upper):\n",
        "#     for key in ['buy', 'sell', 'change']:\n",
        "#       if (key in trade):\n",
        "#         print('{} - {}'.format(key, trade[key]))\n",
        "#   print()"
      ],
      "execution_count": 23,
      "outputs": []
    },
    {
      "cell_type": "code",
      "metadata": {
        "id": "Yos-4HD2nmyP"
      },
      "source": [
        "symbol = 'AAPL'\n",
        "time_preset = '5yr'\n",
        "price_url = build_yahoo_finance_url(symbol=symbol, time_preset=time_preset)\n",
        "dividend_url = build_yahoo_finance_url(symbol=symbol, time_preset=time_preset, events='div')"
      ],
      "execution_count": 34,
      "outputs": []
    },
    {
      "cell_type": "code",
      "metadata": {
        "id": "ILrFLYnilVJZ"
      },
      "source": [
        "price = pd.read_csv(price_url, index_col='Date', parse_dates=True)\n",
        "div = pd.read_csv(dividend_url, index_col='Date', parse_dates=True)"
      ],
      "execution_count": 35,
      "outputs": []
    },
    {
      "cell_type": "code",
      "metadata": {
        "id": "L0TApg2UnCZ2",
        "outputId": "b72037bf-381c-4718-c2de-31d96de8634b",
        "colab": {
          "base_uri": "https://localhost:8080/",
          "height": 693
        }
      },
      "source": [
        "div"
      ],
      "execution_count": 48,
      "outputs": [
        {
          "output_type": "execute_result",
          "data": {
            "text/html": [
              "<div>\n",
              "<style scoped>\n",
              "    .dataframe tbody tr th:only-of-type {\n",
              "        vertical-align: middle;\n",
              "    }\n",
              "\n",
              "    .dataframe tbody tr th {\n",
              "        vertical-align: top;\n",
              "    }\n",
              "\n",
              "    .dataframe thead th {\n",
              "        text-align: right;\n",
              "    }\n",
              "</style>\n",
              "<table border=\"1\" class=\"dataframe\">\n",
              "  <thead>\n",
              "    <tr style=\"text-align: right;\">\n",
              "      <th></th>\n",
              "      <th>Dividends</th>\n",
              "    </tr>\n",
              "    <tr>\n",
              "      <th>Date</th>\n",
              "      <th></th>\n",
              "    </tr>\n",
              "  </thead>\n",
              "  <tbody>\n",
              "    <tr>\n",
              "      <th>2016-11-03</th>\n",
              "      <td>0.1425</td>\n",
              "    </tr>\n",
              "    <tr>\n",
              "      <th>2017-05-11</th>\n",
              "      <td>0.1575</td>\n",
              "    </tr>\n",
              "    <tr>\n",
              "      <th>2018-11-08</th>\n",
              "      <td>0.1825</td>\n",
              "    </tr>\n",
              "    <tr>\n",
              "      <th>2019-11-07</th>\n",
              "      <td>0.1925</td>\n",
              "    </tr>\n",
              "    <tr>\n",
              "      <th>2017-11-10</th>\n",
              "      <td>0.1575</td>\n",
              "    </tr>\n",
              "    <tr>\n",
              "      <th>2018-05-11</th>\n",
              "      <td>0.1825</td>\n",
              "    </tr>\n",
              "    <tr>\n",
              "      <th>2019-05-10</th>\n",
              "      <td>0.1925</td>\n",
              "    </tr>\n",
              "    <tr>\n",
              "      <th>2020-05-08</th>\n",
              "      <td>0.2050</td>\n",
              "    </tr>\n",
              "    <tr>\n",
              "      <th>2020-11-06</th>\n",
              "      <td>0.2050</td>\n",
              "    </tr>\n",
              "    <tr>\n",
              "      <th>2021-05-07</th>\n",
              "      <td>0.2200</td>\n",
              "    </tr>\n",
              "    <tr>\n",
              "      <th>2017-02-09</th>\n",
              "      <td>0.1425</td>\n",
              "    </tr>\n",
              "    <tr>\n",
              "      <th>2017-08-10</th>\n",
              "      <td>0.1575</td>\n",
              "    </tr>\n",
              "    <tr>\n",
              "      <th>2018-02-09</th>\n",
              "      <td>0.1575</td>\n",
              "    </tr>\n",
              "    <tr>\n",
              "      <th>2018-08-10</th>\n",
              "      <td>0.1825</td>\n",
              "    </tr>\n",
              "    <tr>\n",
              "      <th>2019-02-08</th>\n",
              "      <td>0.1825</td>\n",
              "    </tr>\n",
              "    <tr>\n",
              "      <th>2019-08-09</th>\n",
              "      <td>0.1925</td>\n",
              "    </tr>\n",
              "    <tr>\n",
              "      <th>2020-02-07</th>\n",
              "      <td>0.1925</td>\n",
              "    </tr>\n",
              "    <tr>\n",
              "      <th>2020-08-07</th>\n",
              "      <td>0.2050</td>\n",
              "    </tr>\n",
              "    <tr>\n",
              "      <th>2021-02-05</th>\n",
              "      <td>0.2050</td>\n",
              "    </tr>\n",
              "    <tr>\n",
              "      <th>2016-08-04</th>\n",
              "      <td>0.1425</td>\n",
              "    </tr>\n",
              "  </tbody>\n",
              "</table>\n",
              "</div>"
            ],
            "text/plain": [
              "            Dividends\n",
              "Date                 \n",
              "2016-11-03     0.1425\n",
              "2017-05-11     0.1575\n",
              "2018-11-08     0.1825\n",
              "2019-11-07     0.1925\n",
              "2017-11-10     0.1575\n",
              "2018-05-11     0.1825\n",
              "2019-05-10     0.1925\n",
              "2020-05-08     0.2050\n",
              "2020-11-06     0.2050\n",
              "2021-05-07     0.2200\n",
              "2017-02-09     0.1425\n",
              "2017-08-10     0.1575\n",
              "2018-02-09     0.1575\n",
              "2018-08-10     0.1825\n",
              "2019-02-08     0.1825\n",
              "2019-08-09     0.1925\n",
              "2020-02-07     0.1925\n",
              "2020-08-07     0.2050\n",
              "2021-02-05     0.2050\n",
              "2016-08-04     0.1425"
            ]
          },
          "metadata": {
            "tags": []
          },
          "execution_count": 48
        }
      ]
    },
    {
      "cell_type": "code",
      "metadata": {
        "id": "Idp1NYiLoK_s",
        "outputId": "c44ddfd5-f664-4108-a5a7-a0212b302e77",
        "colab": {
          "base_uri": "https://localhost:8080/"
        }
      },
      "source": [
        "price.Close[div.index]"
      ],
      "execution_count": 49,
      "outputs": [
        {
          "output_type": "execute_result",
          "data": {
            "text/plain": [
              "Date\n",
              "2016-11-03     27.457500\n",
              "2017-05-11     38.487499\n",
              "2018-11-08     52.122501\n",
              "2019-11-07     64.857498\n",
              "2017-11-10     43.667500\n",
              "2018-05-11     47.147499\n",
              "2019-05-10     49.294998\n",
              "2020-05-08     77.532501\n",
              "2020-11-06    118.690002\n",
              "2021-05-07    130.210007\n",
              "2017-02-09     33.105000\n",
              "2017-08-10     38.830002\n",
              "2018-02-09     39.102501\n",
              "2018-08-10     51.882500\n",
              "2019-02-08     42.602501\n",
              "2019-08-09     50.247501\n",
              "2020-02-07     80.007500\n",
              "2020-08-07    111.112503\n",
              "2021-02-05    136.759995\n",
              "2016-08-04     26.467501\n",
              "Name: Close, dtype: float64"
            ]
          },
          "metadata": {
            "tags": []
          },
          "execution_count": 49
        }
      ]
    },
    {
      "cell_type": "code",
      "metadata": {
        "id": "spfLG3TXow7l"
      },
      "source": [
        "analysis = div.join(price.Close[div.index])"
      ],
      "execution_count": 53,
      "outputs": []
    },
    {
      "cell_type": "code",
      "metadata": {
        "id": "AVa-S9eao2wv"
      },
      "source": [
        "analysis['Earn'] = analysis.Dividends * analysis.Close"
      ],
      "execution_count": 54,
      "outputs": []
    },
    {
      "cell_type": "code",
      "metadata": {
        "id": "KOJ62ozjpE6T",
        "outputId": "de4a68f9-e060-4fc7-af47-91eca655aaf8",
        "colab": {
          "base_uri": "https://localhost:8080/",
          "height": 693
        }
      },
      "source": [
        "analysis"
      ],
      "execution_count": 55,
      "outputs": [
        {
          "output_type": "execute_result",
          "data": {
            "text/html": [
              "<div>\n",
              "<style scoped>\n",
              "    .dataframe tbody tr th:only-of-type {\n",
              "        vertical-align: middle;\n",
              "    }\n",
              "\n",
              "    .dataframe tbody tr th {\n",
              "        vertical-align: top;\n",
              "    }\n",
              "\n",
              "    .dataframe thead th {\n",
              "        text-align: right;\n",
              "    }\n",
              "</style>\n",
              "<table border=\"1\" class=\"dataframe\">\n",
              "  <thead>\n",
              "    <tr style=\"text-align: right;\">\n",
              "      <th></th>\n",
              "      <th>Dividends</th>\n",
              "      <th>Close</th>\n",
              "      <th>Earn</th>\n",
              "    </tr>\n",
              "    <tr>\n",
              "      <th>Date</th>\n",
              "      <th></th>\n",
              "      <th></th>\n",
              "      <th></th>\n",
              "    </tr>\n",
              "  </thead>\n",
              "  <tbody>\n",
              "    <tr>\n",
              "      <th>2016-11-03</th>\n",
              "      <td>0.1425</td>\n",
              "      <td>27.457500</td>\n",
              "      <td>3.912694</td>\n",
              "    </tr>\n",
              "    <tr>\n",
              "      <th>2017-05-11</th>\n",
              "      <td>0.1575</td>\n",
              "      <td>38.487499</td>\n",
              "      <td>6.061781</td>\n",
              "    </tr>\n",
              "    <tr>\n",
              "      <th>2018-11-08</th>\n",
              "      <td>0.1825</td>\n",
              "      <td>52.122501</td>\n",
              "      <td>9.512356</td>\n",
              "    </tr>\n",
              "    <tr>\n",
              "      <th>2019-11-07</th>\n",
              "      <td>0.1925</td>\n",
              "      <td>64.857498</td>\n",
              "      <td>12.485068</td>\n",
              "    </tr>\n",
              "    <tr>\n",
              "      <th>2017-11-10</th>\n",
              "      <td>0.1575</td>\n",
              "      <td>43.667500</td>\n",
              "      <td>6.877631</td>\n",
              "    </tr>\n",
              "    <tr>\n",
              "      <th>2018-05-11</th>\n",
              "      <td>0.1825</td>\n",
              "      <td>47.147499</td>\n",
              "      <td>8.604419</td>\n",
              "    </tr>\n",
              "    <tr>\n",
              "      <th>2019-05-10</th>\n",
              "      <td>0.1925</td>\n",
              "      <td>49.294998</td>\n",
              "      <td>9.489287</td>\n",
              "    </tr>\n",
              "    <tr>\n",
              "      <th>2020-05-08</th>\n",
              "      <td>0.2050</td>\n",
              "      <td>77.532501</td>\n",
              "      <td>15.894163</td>\n",
              "    </tr>\n",
              "    <tr>\n",
              "      <th>2020-11-06</th>\n",
              "      <td>0.2050</td>\n",
              "      <td>118.690002</td>\n",
              "      <td>24.331450</td>\n",
              "    </tr>\n",
              "    <tr>\n",
              "      <th>2021-05-07</th>\n",
              "      <td>0.2200</td>\n",
              "      <td>130.210007</td>\n",
              "      <td>28.646202</td>\n",
              "    </tr>\n",
              "    <tr>\n",
              "      <th>2017-02-09</th>\n",
              "      <td>0.1425</td>\n",
              "      <td>33.105000</td>\n",
              "      <td>4.717462</td>\n",
              "    </tr>\n",
              "    <tr>\n",
              "      <th>2017-08-10</th>\n",
              "      <td>0.1575</td>\n",
              "      <td>38.830002</td>\n",
              "      <td>6.115725</td>\n",
              "    </tr>\n",
              "    <tr>\n",
              "      <th>2018-02-09</th>\n",
              "      <td>0.1575</td>\n",
              "      <td>39.102501</td>\n",
              "      <td>6.158644</td>\n",
              "    </tr>\n",
              "    <tr>\n",
              "      <th>2018-08-10</th>\n",
              "      <td>0.1825</td>\n",
              "      <td>51.882500</td>\n",
              "      <td>9.468556</td>\n",
              "    </tr>\n",
              "    <tr>\n",
              "      <th>2019-02-08</th>\n",
              "      <td>0.1825</td>\n",
              "      <td>42.602501</td>\n",
              "      <td>7.774956</td>\n",
              "    </tr>\n",
              "    <tr>\n",
              "      <th>2019-08-09</th>\n",
              "      <td>0.1925</td>\n",
              "      <td>50.247501</td>\n",
              "      <td>9.672644</td>\n",
              "    </tr>\n",
              "    <tr>\n",
              "      <th>2020-02-07</th>\n",
              "      <td>0.1925</td>\n",
              "      <td>80.007500</td>\n",
              "      <td>15.401444</td>\n",
              "    </tr>\n",
              "    <tr>\n",
              "      <th>2020-08-07</th>\n",
              "      <td>0.2050</td>\n",
              "      <td>111.112503</td>\n",
              "      <td>22.778063</td>\n",
              "    </tr>\n",
              "    <tr>\n",
              "      <th>2021-02-05</th>\n",
              "      <td>0.2050</td>\n",
              "      <td>136.759995</td>\n",
              "      <td>28.035799</td>\n",
              "    </tr>\n",
              "    <tr>\n",
              "      <th>2016-08-04</th>\n",
              "      <td>0.1425</td>\n",
              "      <td>26.467501</td>\n",
              "      <td>3.771619</td>\n",
              "    </tr>\n",
              "  </tbody>\n",
              "</table>\n",
              "</div>"
            ],
            "text/plain": [
              "            Dividends       Close       Earn\n",
              "Date                                        \n",
              "2016-11-03     0.1425   27.457500   3.912694\n",
              "2017-05-11     0.1575   38.487499   6.061781\n",
              "2018-11-08     0.1825   52.122501   9.512356\n",
              "2019-11-07     0.1925   64.857498  12.485068\n",
              "2017-11-10     0.1575   43.667500   6.877631\n",
              "2018-05-11     0.1825   47.147499   8.604419\n",
              "2019-05-10     0.1925   49.294998   9.489287\n",
              "2020-05-08     0.2050   77.532501  15.894163\n",
              "2020-11-06     0.2050  118.690002  24.331450\n",
              "2021-05-07     0.2200  130.210007  28.646202\n",
              "2017-02-09     0.1425   33.105000   4.717462\n",
              "2017-08-10     0.1575   38.830002   6.115725\n",
              "2018-02-09     0.1575   39.102501   6.158644\n",
              "2018-08-10     0.1825   51.882500   9.468556\n",
              "2019-02-08     0.1825   42.602501   7.774956\n",
              "2019-08-09     0.1925   50.247501   9.672644\n",
              "2020-02-07     0.1925   80.007500  15.401444\n",
              "2020-08-07     0.2050  111.112503  22.778063\n",
              "2021-02-05     0.2050  136.759995  28.035799\n",
              "2016-08-04     0.1425   26.467501   3.771619"
            ]
          },
          "metadata": {
            "tags": []
          },
          "execution_count": 55
        }
      ]
    },
    {
      "cell_type": "code",
      "metadata": {
        "id": "Eoh_6RoZpO0E",
        "outputId": "63bcbd51-8b8f-48cd-8a8d-53c1bc39979b",
        "colab": {
          "base_uri": "https://localhost:8080/",
          "height": 693
        }
      },
      "source": [
        "analysis.sort_index()"
      ],
      "execution_count": 56,
      "outputs": [
        {
          "output_type": "execute_result",
          "data": {
            "text/html": [
              "<div>\n",
              "<style scoped>\n",
              "    .dataframe tbody tr th:only-of-type {\n",
              "        vertical-align: middle;\n",
              "    }\n",
              "\n",
              "    .dataframe tbody tr th {\n",
              "        vertical-align: top;\n",
              "    }\n",
              "\n",
              "    .dataframe thead th {\n",
              "        text-align: right;\n",
              "    }\n",
              "</style>\n",
              "<table border=\"1\" class=\"dataframe\">\n",
              "  <thead>\n",
              "    <tr style=\"text-align: right;\">\n",
              "      <th></th>\n",
              "      <th>Dividends</th>\n",
              "      <th>Close</th>\n",
              "      <th>Earn</th>\n",
              "    </tr>\n",
              "    <tr>\n",
              "      <th>Date</th>\n",
              "      <th></th>\n",
              "      <th></th>\n",
              "      <th></th>\n",
              "    </tr>\n",
              "  </thead>\n",
              "  <tbody>\n",
              "    <tr>\n",
              "      <th>2016-08-04</th>\n",
              "      <td>0.1425</td>\n",
              "      <td>26.467501</td>\n",
              "      <td>3.771619</td>\n",
              "    </tr>\n",
              "    <tr>\n",
              "      <th>2016-11-03</th>\n",
              "      <td>0.1425</td>\n",
              "      <td>27.457500</td>\n",
              "      <td>3.912694</td>\n",
              "    </tr>\n",
              "    <tr>\n",
              "      <th>2017-02-09</th>\n",
              "      <td>0.1425</td>\n",
              "      <td>33.105000</td>\n",
              "      <td>4.717462</td>\n",
              "    </tr>\n",
              "    <tr>\n",
              "      <th>2017-05-11</th>\n",
              "      <td>0.1575</td>\n",
              "      <td>38.487499</td>\n",
              "      <td>6.061781</td>\n",
              "    </tr>\n",
              "    <tr>\n",
              "      <th>2017-08-10</th>\n",
              "      <td>0.1575</td>\n",
              "      <td>38.830002</td>\n",
              "      <td>6.115725</td>\n",
              "    </tr>\n",
              "    <tr>\n",
              "      <th>2017-11-10</th>\n",
              "      <td>0.1575</td>\n",
              "      <td>43.667500</td>\n",
              "      <td>6.877631</td>\n",
              "    </tr>\n",
              "    <tr>\n",
              "      <th>2018-02-09</th>\n",
              "      <td>0.1575</td>\n",
              "      <td>39.102501</td>\n",
              "      <td>6.158644</td>\n",
              "    </tr>\n",
              "    <tr>\n",
              "      <th>2018-05-11</th>\n",
              "      <td>0.1825</td>\n",
              "      <td>47.147499</td>\n",
              "      <td>8.604419</td>\n",
              "    </tr>\n",
              "    <tr>\n",
              "      <th>2018-08-10</th>\n",
              "      <td>0.1825</td>\n",
              "      <td>51.882500</td>\n",
              "      <td>9.468556</td>\n",
              "    </tr>\n",
              "    <tr>\n",
              "      <th>2018-11-08</th>\n",
              "      <td>0.1825</td>\n",
              "      <td>52.122501</td>\n",
              "      <td>9.512356</td>\n",
              "    </tr>\n",
              "    <tr>\n",
              "      <th>2019-02-08</th>\n",
              "      <td>0.1825</td>\n",
              "      <td>42.602501</td>\n",
              "      <td>7.774956</td>\n",
              "    </tr>\n",
              "    <tr>\n",
              "      <th>2019-05-10</th>\n",
              "      <td>0.1925</td>\n",
              "      <td>49.294998</td>\n",
              "      <td>9.489287</td>\n",
              "    </tr>\n",
              "    <tr>\n",
              "      <th>2019-08-09</th>\n",
              "      <td>0.1925</td>\n",
              "      <td>50.247501</td>\n",
              "      <td>9.672644</td>\n",
              "    </tr>\n",
              "    <tr>\n",
              "      <th>2019-11-07</th>\n",
              "      <td>0.1925</td>\n",
              "      <td>64.857498</td>\n",
              "      <td>12.485068</td>\n",
              "    </tr>\n",
              "    <tr>\n",
              "      <th>2020-02-07</th>\n",
              "      <td>0.1925</td>\n",
              "      <td>80.007500</td>\n",
              "      <td>15.401444</td>\n",
              "    </tr>\n",
              "    <tr>\n",
              "      <th>2020-05-08</th>\n",
              "      <td>0.2050</td>\n",
              "      <td>77.532501</td>\n",
              "      <td>15.894163</td>\n",
              "    </tr>\n",
              "    <tr>\n",
              "      <th>2020-08-07</th>\n",
              "      <td>0.2050</td>\n",
              "      <td>111.112503</td>\n",
              "      <td>22.778063</td>\n",
              "    </tr>\n",
              "    <tr>\n",
              "      <th>2020-11-06</th>\n",
              "      <td>0.2050</td>\n",
              "      <td>118.690002</td>\n",
              "      <td>24.331450</td>\n",
              "    </tr>\n",
              "    <tr>\n",
              "      <th>2021-02-05</th>\n",
              "      <td>0.2050</td>\n",
              "      <td>136.759995</td>\n",
              "      <td>28.035799</td>\n",
              "    </tr>\n",
              "    <tr>\n",
              "      <th>2021-05-07</th>\n",
              "      <td>0.2200</td>\n",
              "      <td>130.210007</td>\n",
              "      <td>28.646202</td>\n",
              "    </tr>\n",
              "  </tbody>\n",
              "</table>\n",
              "</div>"
            ],
            "text/plain": [
              "            Dividends       Close       Earn\n",
              "Date                                        \n",
              "2016-08-04     0.1425   26.467501   3.771619\n",
              "2016-11-03     0.1425   27.457500   3.912694\n",
              "2017-02-09     0.1425   33.105000   4.717462\n",
              "2017-05-11     0.1575   38.487499   6.061781\n",
              "2017-08-10     0.1575   38.830002   6.115725\n",
              "2017-11-10     0.1575   43.667500   6.877631\n",
              "2018-02-09     0.1575   39.102501   6.158644\n",
              "2018-05-11     0.1825   47.147499   8.604419\n",
              "2018-08-10     0.1825   51.882500   9.468556\n",
              "2018-11-08     0.1825   52.122501   9.512356\n",
              "2019-02-08     0.1825   42.602501   7.774956\n",
              "2019-05-10     0.1925   49.294998   9.489287\n",
              "2019-08-09     0.1925   50.247501   9.672644\n",
              "2019-11-07     0.1925   64.857498  12.485068\n",
              "2020-02-07     0.1925   80.007500  15.401444\n",
              "2020-05-08     0.2050   77.532501  15.894163\n",
              "2020-08-07     0.2050  111.112503  22.778063\n",
              "2020-11-06     0.2050  118.690002  24.331450\n",
              "2021-02-05     0.2050  136.759995  28.035799\n",
              "2021-05-07     0.2200  130.210007  28.646202"
            ]
          },
          "metadata": {
            "tags": []
          },
          "execution_count": 56
        }
      ]
    },
    {
      "cell_type": "code",
      "metadata": {
        "id": "WF8cWJzNpWFo"
      },
      "source": [
        ""
      ],
      "execution_count": null,
      "outputs": []
    }
  ]
}