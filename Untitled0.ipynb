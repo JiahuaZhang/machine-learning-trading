{
  "nbformat": 4,
  "nbformat_minor": 0,
  "metadata": {
    "colab": {
      "name": "Untitled0.ipynb",
      "provenance": [],
      "collapsed_sections": [],
      "include_colab_link": true
    },
    "kernelspec": {
      "name": "python3",
      "display_name": "Python 3"
    }
  },
  "cells": [
    {
      "cell_type": "markdown",
      "metadata": {
        "id": "view-in-github",
        "colab_type": "text"
      },
      "source": [
        "<a href=\"https://colab.research.google.com/github/JiahuaZhang/machine-learning-trading/blob/main/Untitled0.ipynb\" target=\"_parent\"><img src=\"https://colab.research.google.com/assets/colab-badge.svg\" alt=\"Open In Colab\"/></a>"
      ]
    },
    {
      "cell_type": "code",
      "metadata": {
        "id": "34pLgIRcjwj_"
      },
      "source": [
        "import pandas as pd\n",
        "import numpy as np\n",
        "import matplotlib.pyplot as plt\n",
        "import matplotlib\n",
        "from datetime import datetime\n",
        "from dateutil import relativedelta\n",
        "\n",
        "%matplotlib inline"
      ],
      "execution_count": 1,
      "outputs": []
    },
    {
      "cell_type": "code",
      "metadata": {
        "id": "g4gFUlKvWLec"
      },
      "source": [
        "matplotlib.rcParams['figure.figsize'] = (15, 13)"
      ],
      "execution_count": 2,
      "outputs": []
    },
    {
      "cell_type": "code",
      "metadata": {
        "id": "ALz_fwnBr5z_"
      },
      "source": [
        "def get_time_preset(time_preset):\n",
        "  \"\"\"Get time range for preset\n",
        "  time_preset -- number + date range format\n",
        "  e.g. 1d for 1 day, 2mo for 2 months, 3yr for 3years\n",
        "  \"\"\"\n",
        "  now = datetime.today()\n",
        "\n",
        "  if 'd' in time_preset:\n",
        "    days = int(time_preset.replace('d', ''))\n",
        "    start = now + relativedelta.relativedelta(days=-days)\n",
        "    return start.timestamp(), now.timestamp()\n",
        "  elif 'mo' in time_preset:\n",
        "    months = int(time_preset.replace('mo', ''))\n",
        "    start = now + relativedelta.relativedelta(months=-months)\n",
        "  elif 'yr' in time_preset:\n",
        "    years = int(time_preset.replace('yr', ''))\n",
        "    start = now + relativedelta.relativedelta(years=-years)\n",
        "\n",
        "  return start.timestamp(), now.timestamp()"
      ],
      "execution_count": 3,
      "outputs": []
    },
    {
      "cell_type": "code",
      "metadata": {
        "id": "XQVB3ol-r85s"
      },
      "source": [
        "def build_yahoo_finance_url(symbol, time_preset='3mo', interval='daily', events='history', start=None, end=None, includeAdjustedClose=True):\n",
        "  \"\"\"build yahoo finance url\n",
        "  Keyword arguments:\n",
        "  symbol: stock symbol, e.g. AAPL, SPY\n",
        "  time_preset: time ranges by preset, e.g. 1d for 1 day, 2mo for 2 months, 3yr for 3 years.\n",
        "    it would ignore start, end if this is not None\n",
        "  interval: get stock frequency, e.g. daily, weekly, monthly\n",
        "  events: history | div, historic stock price or dividend\n",
        "  start, end: start or end date in milliseconds format\n",
        "  includeAdjustedClose: boolean\n",
        "  \"\"\"\n",
        "  api = 'https://query1.finance.yahoo.com/v7/finance/download'\n",
        "\n",
        "  if start and end:\n",
        "    if type(start) == float or type(start) == int:\n",
        "      period1, period2 = start, end\n",
        "    else:\n",
        "      period1 = datetime.strptime(start, '%Y-%m-%d').timestamp()\n",
        "      period2 = datetime.strptime(end, '%Y-%m-%d').timestamp()\n",
        "  else:\n",
        "    period1, period2 = get_time_preset(time_preset=time_preset)\n",
        "\n",
        "  interval = {'daily': '1d', 'weekly': '1wk', 'monthly': '1mo'}[interval]\n",
        "\n",
        "  return '{}/{}?period1={}&period2={}&interval={}&events={}&includeAdjustedClose={}'.format(api, symbol, int(period1), int(period2), interval, events, includeAdjustedClose)"
      ],
      "execution_count": 4,
      "outputs": []
    },
    {
      "cell_type": "code",
      "metadata": {
        "id": "LsgFoHI_lXDm"
      },
      "source": [
        "def get_stock_dataframe(symbol, **kwargs):\n",
        "  url = build_yahoo_finance_url(symbol=symbol, **kwargs)\n",
        "  stock = pd.read_csv(url, index_col='Date', parse_dates=True)\n",
        "  return stock"
      ],
      "execution_count": 5,
      "outputs": []
    },
    {
      "cell_type": "code",
      "metadata": {
        "id": "uBPTQXpRIznr"
      },
      "source": [
        "def rolling_analysis(series, window=20, nstd=2, plot=True):\n",
        "  rolling = series.rolling(window=window)\n",
        "  mean = rolling.mean()\n",
        "  upper_bound = mean + nstd * rolling.std()\n",
        "  lower_bound = mean - nstd * rolling.std()\n",
        "  \n",
        "  mean.name = '{} rolling mean'.format(mean.name)\n",
        "  upper_bound.name = '{} upper bound'.format(mean.name)\n",
        "  lower_bound.name = '{} lower bound'.format(mean.name)\n",
        "\n",
        "  if plot:\n",
        "    pd.concat([series, mean, upper_bound, lower_bound], axis=1).plot()\n",
        "    plt.show()\n",
        "\n",
        "  return mean, lower_bound, upper_bound"
      ],
      "execution_count": 6,
      "outputs": []
    },
    {
      "cell_type": "markdown",
      "metadata": {
        "id": "vZTuNAsBvedH"
      },
      "source": [
        ""
      ]
    },
    {
      "cell_type": "code",
      "metadata": {
        "id": "bYK3AZ0ShUSJ"
      },
      "source": [
        "def rolling_trade(series, lower, upper):\n",
        "  buy = series[lower > series]\n",
        "  sell = series[series > upper]\n",
        "\n",
        "  trades = []\n",
        "  while True:\n",
        "    if buy.size == 0:\n",
        "      break\n",
        "\n",
        "    current_trade = {}\n",
        "    current_buy_time = buy.index[0]\n",
        "    current_buy_price = buy[current_buy_time]\n",
        "    current_trade['buy'] = {\n",
        "        'time': current_buy_time,\n",
        "        'price': current_buy_price\n",
        "    }\n",
        "\n",
        "    sell = sell[sell.index > current_buy_time]\n",
        "    sell = sell[sell > current_buy_price]\n",
        "    if sell.size == 0:\n",
        "      trades.append(current_trade)\n",
        "      break\n",
        "\n",
        "    current_sell_time = sell.index[0]\n",
        "    current_sell_price = sell[current_sell_time]\n",
        "    current_trade['sell'] = {\n",
        "        'time': current_sell_time,\n",
        "        'price': current_sell_price\n",
        "    }\n",
        "    current_trade['change'] = {\n",
        "        'time': current_sell_time - current_buy_time,\n",
        "        'price': current_sell_price - current_buy_price\n",
        "    }\n",
        "    trades.append(current_trade)\n",
        "\n",
        "    buy = buy[buy.index > current_sell_time]\n",
        "  return trades"
      ],
      "execution_count": 7,
      "outputs": []
    },
    {
      "cell_type": "code",
      "metadata": {
        "id": "mrwZaO_EqqKW"
      },
      "source": [
        "def get_price_earning_ratio(symbol='', time_preset='7yr', **kwargs):\n",
        "  price_url = build_yahoo_finance_url(symbol=symbol, time_preset=time_preset, **kwargs)\n",
        "  dividend_url = build_yahoo_finance_url(symbol=symbol, events='div', time_preset=time_preset, **kwargs)\n",
        "\n",
        "  price = pd.read_csv(price_url, index_col='Date', parse_dates=True)\n",
        "  div = pd.read_csv(dividend_url, index_col='Date', parse_dates=True)\n",
        "\n",
        "  analysis = div.join(price.Close[div.index])\n",
        "  analysis['PER'] = analysis.Close / analysis.Dividends / 4\n",
        "  analysis['Divident Yield %'] = 1 / analysis.PER * 100\n",
        "  return analysis.sort_index(ascending=False)"
      ],
      "execution_count": 8,
      "outputs": []
    },
    {
      "cell_type": "code",
      "metadata": {
        "id": "DItk7i5vtG4H"
      },
      "source": [
        "# AAPL\n",
        "# symbol = 'SPY'\n",
        "# url = build_yahoo_finance_url(symbol=symbol)\n",
        "# stock = pd.read_csv(url, index_col='Date', parse_dates=True)"
      ],
      "execution_count": 9,
      "outputs": []
    },
    {
      "cell_type": "code",
      "metadata": {
        "id": "BEum3_XtXZyI"
      },
      "source": [
        "# adjust_close = stock['Adj Close']"
      ],
      "execution_count": 10,
      "outputs": []
    },
    {
      "cell_type": "code",
      "metadata": {
        "id": "0lsbHF7-Vfq3"
      },
      "source": [
        "# mean, lower, upper = rolling_analysis(adjust_close)"
      ],
      "execution_count": 11,
      "outputs": []
    },
    {
      "cell_type": "code",
      "metadata": {
        "id": "44W0mDw5nI3m"
      },
      "source": [
        "# rolling_trade(adjust_close, lower, upper)"
      ],
      "execution_count": 12,
      "outputs": []
    },
    {
      "cell_type": "code",
      "metadata": {
        "id": "z8CUN0Jdd3fx"
      },
      "source": [
        "# for window in [7, 14, 21, 28]:\n",
        "#   print('For {} window size:'.format(window))\n",
        "#   mean, lower, upper = rolling_analysis(adjust_close, window=window)\n",
        "#   for trade in rolling_trade(adjust_close, lower, upper):\n",
        "#     for key in ['buy', 'sell', 'change']:\n",
        "#       if (key in trade):\n",
        "#         print('{} - {}'.format(key, trade[key]))\n",
        "#   print()"
      ],
      "execution_count": 13,
      "outputs": []
    },
    {
      "cell_type": "code",
      "metadata": {
        "id": "I5XCxqZ_q8mG"
      },
      "source": [
        "# get_price_earning_ratio('mo')"
      ],
      "execution_count": 19,
      "outputs": []
    },
    {
      "cell_type": "code",
      "metadata": {
        "id": "6QHm3Y57k9Pj"
      },
      "source": [
        "# mo = get_stock_dataframe('mo', time_preset='7yr', interval='monthly')\n",
        "# mo['Adj Close'].plot()"
      ],
      "execution_count": 20,
      "outputs": []
    },
    {
      "cell_type": "code",
      "metadata": {
        "id": "-tbhtdfGmfHF"
      },
      "source": [
        ""
      ],
      "execution_count": 20,
      "outputs": []
    }
  ]
}