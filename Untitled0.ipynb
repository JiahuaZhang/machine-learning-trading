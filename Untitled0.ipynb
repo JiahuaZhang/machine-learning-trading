{
  "nbformat": 4,
  "nbformat_minor": 0,
  "metadata": {
    "colab": {
      "name": "Untitled0.ipynb",
      "provenance": [],
      "collapsed_sections": [],
      "include_colab_link": true
    },
    "kernelspec": {
      "name": "python3",
      "display_name": "Python 3"
    }
  },
  "cells": [
    {
      "cell_type": "markdown",
      "metadata": {
        "id": "view-in-github",
        "colab_type": "text"
      },
      "source": [
        "<a href=\"https://colab.research.google.com/github/JiahuaZhang/machine-learning-trading/blob/main/Untitled0.ipynb\" target=\"_parent\"><img src=\"https://colab.research.google.com/assets/colab-badge.svg\" alt=\"Open In Colab\"/></a>"
      ]
    },
    {
      "cell_type": "code",
      "metadata": {
        "id": "34pLgIRcjwj_"
      },
      "source": [
        "import pandas as pd\n",
        "import numpy as np\n",
        "import matplotlib.pyplot as plt\n",
        "\n",
        "%matplotlib inline"
      ],
      "execution_count": 3,
      "outputs": []
    },
    {
      "cell_type": "code",
      "metadata": {
        "id": "wo-KCkG_-Oqf"
      },
      "source": [
        "spy_stock = pd.read_csv('./SPY.csv')"
      ],
      "execution_count": 4,
      "outputs": []
    },
    {
      "cell_type": "code",
      "metadata": {
        "colab": {
          "base_uri": "https://localhost:8080/",
          "height": 569
        },
        "id": "R5XsLdGT-h-A",
        "outputId": "57ed80f1-2201-45ea-ca8b-57b89b5399fa"
      },
      "source": [
        "spy_stock"
      ],
      "execution_count": 5,
      "outputs": [
        {
          "output_type": "execute_result",
          "data": {
            "text/html": [
              "<div>\n",
              "<style scoped>\n",
              "    .dataframe tbody tr th:only-of-type {\n",
              "        vertical-align: middle;\n",
              "    }\n",
              "\n",
              "    .dataframe tbody tr th {\n",
              "        vertical-align: top;\n",
              "    }\n",
              "\n",
              "    .dataframe thead th {\n",
              "        text-align: right;\n",
              "    }\n",
              "</style>\n",
              "<table border=\"1\" class=\"dataframe\">\n",
              "  <thead>\n",
              "    <tr style=\"text-align: right;\">\n",
              "      <th></th>\n",
              "      <th>Date</th>\n",
              "      <th>Open</th>\n",
              "      <th>High</th>\n",
              "      <th>Low</th>\n",
              "      <th>Close</th>\n",
              "      <th>Adj Close</th>\n",
              "      <th>Volume</th>\n",
              "    </tr>\n",
              "  </thead>\n",
              "  <tbody>\n",
              "    <tr>\n",
              "      <th>0</th>\n",
              "      <td>2020-04-24</td>\n",
              "      <td>280.730011</td>\n",
              "      <td>283.700012</td>\n",
              "      <td>278.500000</td>\n",
              "      <td>282.970001</td>\n",
              "      <td>278.503754</td>\n",
              "      <td>85166000</td>\n",
              "    </tr>\n",
              "    <tr>\n",
              "      <th>1</th>\n",
              "      <td>2020-04-27</td>\n",
              "      <td>285.119995</td>\n",
              "      <td>288.269989</td>\n",
              "      <td>284.619995</td>\n",
              "      <td>287.049988</td>\n",
              "      <td>282.519348</td>\n",
              "      <td>77896600</td>\n",
              "    </tr>\n",
              "    <tr>\n",
              "      <th>2</th>\n",
              "      <td>2020-04-28</td>\n",
              "      <td>291.019989</td>\n",
              "      <td>291.399994</td>\n",
              "      <td>285.399994</td>\n",
              "      <td>285.730011</td>\n",
              "      <td>281.220184</td>\n",
              "      <td>105270000</td>\n",
              "    </tr>\n",
              "    <tr>\n",
              "      <th>3</th>\n",
              "      <td>2020-04-29</td>\n",
              "      <td>291.529999</td>\n",
              "      <td>294.880005</td>\n",
              "      <td>290.410004</td>\n",
              "      <td>293.209991</td>\n",
              "      <td>288.582092</td>\n",
              "      <td>118745600</td>\n",
              "    </tr>\n",
              "    <tr>\n",
              "      <th>4</th>\n",
              "      <td>2020-04-30</td>\n",
              "      <td>291.709991</td>\n",
              "      <td>293.320007</td>\n",
              "      <td>288.589996</td>\n",
              "      <td>290.480011</td>\n",
              "      <td>285.895233</td>\n",
              "      <td>122901700</td>\n",
              "    </tr>\n",
              "    <tr>\n",
              "      <th>...</th>\n",
              "      <td>...</td>\n",
              "      <td>...</td>\n",
              "      <td>...</td>\n",
              "      <td>...</td>\n",
              "      <td>...</td>\n",
              "      <td>...</td>\n",
              "      <td>...</td>\n",
              "    </tr>\n",
              "    <tr>\n",
              "      <th>247</th>\n",
              "      <td>2021-04-19</td>\n",
              "      <td>416.260010</td>\n",
              "      <td>416.739990</td>\n",
              "      <td>413.790009</td>\n",
              "      <td>415.209991</td>\n",
              "      <td>415.209991</td>\n",
              "      <td>78299000</td>\n",
              "    </tr>\n",
              "    <tr>\n",
              "      <th>248</th>\n",
              "      <td>2021-04-20</td>\n",
              "      <td>413.910004</td>\n",
              "      <td>415.089996</td>\n",
              "      <td>410.589996</td>\n",
              "      <td>412.170013</td>\n",
              "      <td>412.170013</td>\n",
              "      <td>81768200</td>\n",
              "    </tr>\n",
              "    <tr>\n",
              "      <th>249</th>\n",
              "      <td>2021-04-21</td>\n",
              "      <td>411.510010</td>\n",
              "      <td>416.290009</td>\n",
              "      <td>411.359985</td>\n",
              "      <td>416.070007</td>\n",
              "      <td>416.070007</td>\n",
              "      <td>66793000</td>\n",
              "    </tr>\n",
              "    <tr>\n",
              "      <th>250</th>\n",
              "      <td>2021-04-22</td>\n",
              "      <td>415.890015</td>\n",
              "      <td>416.779999</td>\n",
              "      <td>411.130005</td>\n",
              "      <td>412.269989</td>\n",
              "      <td>412.269989</td>\n",
              "      <td>97582800</td>\n",
              "    </tr>\n",
              "    <tr>\n",
              "      <th>251</th>\n",
              "      <td>2021-04-23</td>\n",
              "      <td>412.869995</td>\n",
              "      <td>418.250000</td>\n",
              "      <td>412.790009</td>\n",
              "      <td>416.739990</td>\n",
              "      <td>416.739990</td>\n",
              "      <td>73209200</td>\n",
              "    </tr>\n",
              "  </tbody>\n",
              "</table>\n",
              "<p>252 rows × 7 columns</p>\n",
              "</div>"
            ],
            "text/plain": [
              "           Date        Open        High  ...       Close   Adj Close     Volume\n",
              "0    2020-04-24  280.730011  283.700012  ...  282.970001  278.503754   85166000\n",
              "1    2020-04-27  285.119995  288.269989  ...  287.049988  282.519348   77896600\n",
              "2    2020-04-28  291.019989  291.399994  ...  285.730011  281.220184  105270000\n",
              "3    2020-04-29  291.529999  294.880005  ...  293.209991  288.582092  118745600\n",
              "4    2020-04-30  291.709991  293.320007  ...  290.480011  285.895233  122901700\n",
              "..          ...         ...         ...  ...         ...         ...        ...\n",
              "247  2021-04-19  416.260010  416.739990  ...  415.209991  415.209991   78299000\n",
              "248  2021-04-20  413.910004  415.089996  ...  412.170013  412.170013   81768200\n",
              "249  2021-04-21  411.510010  416.290009  ...  416.070007  416.070007   66793000\n",
              "250  2021-04-22  415.890015  416.779999  ...  412.269989  412.269989   97582800\n",
              "251  2021-04-23  412.869995  418.250000  ...  416.739990  416.739990   73209200\n",
              "\n",
              "[252 rows x 7 columns]"
            ]
          },
          "metadata": {
            "tags": []
          },
          "execution_count": 5
        }
      ]
    },
    {
      "cell_type": "code",
      "metadata": {
        "id": "Z8CRQIgN-iuA",
        "outputId": "6573003a-0bfa-4217-b360-d1912fa7962d",
        "colab": {
          "base_uri": "https://localhost:8080/"
        }
      },
      "source": [
        "print('hi')"
      ],
      "execution_count": 6,
      "outputs": [
        {
          "output_type": "stream",
          "text": [
            "hi\n"
          ],
          "name": "stdout"
        }
      ]
    },
    {
      "cell_type": "code",
      "metadata": {
        "id": "nrKGLbQhAWYj"
      },
      "source": [
        ""
      ],
      "execution_count": null,
      "outputs": []
    }
  ]
}